{
  "nbformat": 4,
  "nbformat_minor": 0,
  "metadata": {
    "colab": {
      "provenance": []
    },
    "kernelspec": {
      "name": "python3",
      "display_name": "Python 3"
    },
    "language_info": {
      "name": "python"
    }
  },
  "cells": [
    {
      "cell_type": "markdown",
      "source": [
        "# **RUN THIS CODE TO GET DEFAULT DISTANCE MAP**"
      ],
      "metadata": {
        "id": "LrksvxjZUAA-"
      }
    },
    {
      "cell_type": "code",
      "execution_count": 1,
      "metadata": {
        "colab": {
          "base_uri": "https://localhost:8080/"
        },
        "id": "Jg6YpwXpTgi4",
        "outputId": "b94ea05f-3042-49c2-8f71-cc5228464ed6"
      },
      "outputs": [
        {
          "output_type": "stream",
          "name": "stdout",
          "text": [
            "Cloning into 'CLEAN'...\n",
            "remote: Enumerating objects: 15966, done.\u001b[K\n",
            "remote: Counting objects: 100% (276/276), done.\u001b[K\n",
            "remote: Compressing objects: 100% (90/90), done.\u001b[K\n",
            "remote: Total 15966 (delta 215), reused 212 (delta 186), pack-reused 15690\u001b[K\n",
            "Receiving objects: 100% (15966/15966), 144.05 MiB | 14.06 MiB/s, done.\n",
            "Resolving deltas: 100% (293/293), done.\n",
            "Updating files: 100% (18421/18421), done.\n"
          ]
        }
      ],
      "source": [
        "!git clone https://github.com/Yichuan0712/CLEAN.git"
      ]
    },
    {
      "cell_type": "code",
      "source": [
        "import os\n",
        "os.chdir('/content/CLEAN/app')\n",
        "current_path = os.getcwd()\n",
        "os.listdir(current_path)"
      ],
      "metadata": {
        "colab": {
          "base_uri": "https://localhost:8080/"
        },
        "id": "NK8y1tgET5nt",
        "outputId": "66f1c684-fbae-4707-d0d8-0b88103a5581"
      },
      "execution_count": 2,
      "outputs": [
        {
          "output_type": "execute_result",
          "data": {
            "text/plain": [
              "['results',\n",
              " 'requirements.txt',\n",
              " 'CLEAN_infer_fasta.py',\n",
              " 'train-supconH.py',\n",
              " 'src',\n",
              " 'inference.py',\n",
              " 'data',\n",
              " 'build.py',\n",
              " 'gmm.py',\n",
              " 'train-triplet.py']"
            ]
          },
          "metadata": {},
          "execution_count": 2
        }
      ]
    },
    {
      "cell_type": "code",
      "source": [
        "!pip install fair-esm  # latest release\n",
        "!git clone https://github.com/facebookresearch/esm.git"
      ],
      "metadata": {
        "colab": {
          "base_uri": "https://localhost:8080/"
        },
        "id": "inip9rikT-yS",
        "outputId": "c45dc8f5-d291-4224-c7b2-b0ce31f3df85"
      },
      "execution_count": 3,
      "outputs": [
        {
          "output_type": "stream",
          "name": "stdout",
          "text": [
            "Collecting fair-esm\n",
            "  Downloading fair_esm-2.0.0-py3-none-any.whl (93 kB)\n",
            "\u001b[?25l     \u001b[90m━━━━━━━━━━━━━━━━━━━━━━━━━━━━━━━━━━━━━━━━\u001b[0m \u001b[32m0.0/93.1 kB\u001b[0m \u001b[31m?\u001b[0m eta \u001b[36m-:--:--\u001b[0m\r\u001b[2K     \u001b[91m━━━━━━━━━━━━━━━━━━━━━━━━━━━━━━━━━━━━━━━\u001b[0m\u001b[91m╸\u001b[0m \u001b[32m92.2/93.1 kB\u001b[0m \u001b[31m3.1 MB/s\u001b[0m eta \u001b[36m0:00:01\u001b[0m\r\u001b[2K     \u001b[90m━━━━━━━━━━━━━━━━━━━━━━━━━━━━━━━━━━━━━━━━\u001b[0m \u001b[32m93.1/93.1 kB\u001b[0m \u001b[31m2.3 MB/s\u001b[0m eta \u001b[36m0:00:00\u001b[0m\n",
            "\u001b[?25hInstalling collected packages: fair-esm\n",
            "Successfully installed fair-esm-2.0.0\n",
            "Cloning into 'esm'...\n",
            "remote: Enumerating objects: 1511, done.\u001b[K\n",
            "remote: Counting objects: 100% (151/151), done.\u001b[K\n",
            "remote: Compressing objects: 100% (113/113), done.\u001b[K\n",
            "remote: Total 1511 (delta 46), reused 102 (delta 36), pack-reused 1360\u001b[K\n",
            "Receiving objects: 100% (1511/1511), 11.26 MiB | 9.72 MiB/s, done.\n",
            "Resolving deltas: 100% (900/900), done.\n"
          ]
        }
      ]
    },
    {
      "cell_type": "code",
      "source": [
        "from src.CLEAN.utils import compute_esm_distance\n",
        "compute_esm_distance('MUnodual')"
      ],
      "metadata": {
        "colab": {
          "base_uri": "https://localhost:8080/"
        },
        "id": "jSp86OjsUTqm",
        "outputId": "91e56484-f58d-4de8-aefd-8a8ac0d0b52e"
      },
      "execution_count": 4,
      "outputs": [
        {
          "output_type": "stream",
          "name": "stderr",
          "text": [
            "100%|██████████| 8/8 [00:00<00:00, 152.52it/s]\n"
          ]
        },
        {
          "output_type": "stream",
          "name": "stdout",
          "text": [
            "Calculating distance map, number of unique EC is 8\n"
          ]
        },
        {
          "output_type": "stream",
          "name": "stderr",
          "text": [
            "8it [00:00, 602.45it/s]\n"
          ]
        }
      ]
    },
    {
      "cell_type": "code",
      "source": [
        "import pickle\n",
        "\n",
        "with open('./data/distance_map/' + 'MUnodual' + '.pkl', 'rb') as f:\n",
        "    esm_dist = pickle.load(f)\n",
        "\n",
        "with open('./data/distance_map/' + 'MUnodual' + '_esm.pkl', 'rb') as f:\n",
        "    esm_emb = pickle.load(f)\n"
      ],
      "metadata": {
        "id": "bMll53poWW_-"
      },
      "execution_count": 7,
      "outputs": []
    },
    {
      "cell_type": "code",
      "source": [
        "esm_dist"
      ],
      "metadata": {
        "colab": {
          "base_uri": "https://localhost:8080/"
        },
        "id": "j1YfmW4lXQV2",
        "outputId": "3c7ccc6a-0410-455a-ccf0-2742402d9628"
      },
      "execution_count": 8,
      "outputs": [
        {
          "output_type": "execute_result",
          "data": {
            "text/plain": [
              "{'Peroxisome': {'Peroxisome': 0.0,\n",
              "  'ER': 0.877048,\n",
              "  'SIGNAL': 1.2114996,\n",
              "  'Nucleus_export': 1.1507419,\n",
              "  'Nucleus': 1.2095066,\n",
              "  'Mitochondrion': 0.6055124,\n",
              "  'Thylakoid': 1.2042149,\n",
              "  'chloroplast': 0.83377135},\n",
              " 'ER': {'Peroxisome': 0.877048,\n",
              "  'ER': 0.0,\n",
              "  'SIGNAL': 0.96681494,\n",
              "  'Nucleus_export': 1.0825101,\n",
              "  'Nucleus': 1.1157509,\n",
              "  'Mitochondrion': 0.80484384,\n",
              "  'Thylakoid': 1.0444773,\n",
              "  'chloroplast': 0.87941486},\n",
              " 'SIGNAL': {'Peroxisome': 1.2114996,\n",
              "  'ER': 0.96681494,\n",
              "  'SIGNAL': 0.0,\n",
              "  'Nucleus_export': 1.1546075,\n",
              "  'Nucleus': 1.186118,\n",
              "  'Mitochondrion': 1.0643163,\n",
              "  'Thylakoid': 1.1184136,\n",
              "  'chloroplast': 1.0634035},\n",
              " 'Nucleus_export': {'Peroxisome': 1.1507419,\n",
              "  'ER': 1.0825101,\n",
              "  'SIGNAL': 1.1546075,\n",
              "  'Nucleus_export': 0.0,\n",
              "  'Nucleus': 0.40015572,\n",
              "  'Mitochondrion': 0.99981815,\n",
              "  'Thylakoid': 1.282192,\n",
              "  'chloroplast': 1.0394256},\n",
              " 'Nucleus': {'Peroxisome': 1.2095066,\n",
              "  'ER': 1.1157509,\n",
              "  'SIGNAL': 1.186118,\n",
              "  'Nucleus_export': 0.40015572,\n",
              "  'Nucleus': 0.0,\n",
              "  'Mitochondrion': 1.0234139,\n",
              "  'Thylakoid': 1.2329942,\n",
              "  'chloroplast': 0.99461615},\n",
              " 'Mitochondrion': {'Peroxisome': 0.6055124,\n",
              "  'ER': 0.80484384,\n",
              "  'SIGNAL': 1.0643163,\n",
              "  'Nucleus_export': 0.99981815,\n",
              "  'Nucleus': 1.0234139,\n",
              "  'Mitochondrion': 0.0,\n",
              "  'Thylakoid': 0.86669606,\n",
              "  'chloroplast': 0.4297323},\n",
              " 'Thylakoid': {'Peroxisome': 1.2042149,\n",
              "  'ER': 1.0444773,\n",
              "  'SIGNAL': 1.1184136,\n",
              "  'Nucleus_export': 1.282192,\n",
              "  'Nucleus': 1.2329942,\n",
              "  'Mitochondrion': 0.86669606,\n",
              "  'Thylakoid': 0.0,\n",
              "  'chloroplast': 0.6066733},\n",
              " 'chloroplast': {'Peroxisome': 0.83377135,\n",
              "  'ER': 0.87941486,\n",
              "  'SIGNAL': 1.0634035,\n",
              "  'Nucleus_export': 1.0394256,\n",
              "  'Nucleus': 0.99461615,\n",
              "  'Mitochondrion': 0.4297323,\n",
              "  'Thylakoid': 0.6066733,\n",
              "  'chloroplast': 0.0}}"
            ]
          },
          "metadata": {},
          "execution_count": 8
        }
      ]
    }
  ]
}
