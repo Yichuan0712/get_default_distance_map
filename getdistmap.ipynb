{
  "nbformat": 4,
  "nbformat_minor": 0,
  "metadata": {
    "colab": {
      "provenance": []
    },
    "kernelspec": {
      "name": "python3",
      "display_name": "Python 3"
    },
    "language_info": {
      "name": "python"
    }
  },
  "cells": [
    {
      "cell_type": "markdown",
      "source": [
        "# **RUN THIS CODE TO GET DEFAULT DISTANCE MAP**"
      ],
      "metadata": {
        "id": "LrksvxjZUAA-"
      }
    },
    {
      "cell_type": "code",
      "execution_count": 1,
      "metadata": {
        "colab": {
          "base_uri": "https://localhost:8080/"
        },
        "id": "Jg6YpwXpTgi4",
        "outputId": "94a6c6be-09cf-4705-bf3c-ca3e58dc662f"
      },
      "outputs": [
        {
          "output_type": "stream",
          "name": "stdout",
          "text": [
            "Cloning into 'CLEAN'...\n",
            "remote: Enumerating objects: 15966, done.\u001b[K\n",
            "remote: Counting objects: 100% (276/276), done.\u001b[K\n",
            "remote: Compressing objects: 100% (90/90), done.\u001b[K\n",
            "remote: Total 15966 (delta 215), reused 212 (delta 186), pack-reused 15690\u001b[K\n",
            "Receiving objects: 100% (15966/15966), 144.05 MiB | 14.24 MiB/s, done.\n",
            "Resolving deltas: 100% (293/293), done.\n",
            "Updating files: 100% (18421/18421), done.\n"
          ]
        }
      ],
      "source": [
        "!git clone https://github.com/Yichuan0712/CLEAN.git"
      ]
    },
    {
      "cell_type": "code",
      "source": [
        "import os\n",
        "os.chdir('/content/CLEAN/app')\n",
        "current_path = os.getcwd()\n",
        "os.listdir(current_path)"
      ],
      "metadata": {
        "colab": {
          "base_uri": "https://localhost:8080/"
        },
        "id": "NK8y1tgET5nt",
        "outputId": "bb1aaa81-c4f8-4385-d032-f55344e5d5c3"
      },
      "execution_count": 2,
      "outputs": [
        {
          "output_type": "execute_result",
          "data": {
            "text/plain": [
              "['results',\n",
              " 'requirements.txt',\n",
              " 'CLEAN_infer_fasta.py',\n",
              " 'train-supconH.py',\n",
              " 'src',\n",
              " 'inference.py',\n",
              " 'data',\n",
              " 'build.py',\n",
              " 'gmm.py',\n",
              " 'train-triplet.py']"
            ]
          },
          "metadata": {},
          "execution_count": 2
        }
      ]
    },
    {
      "cell_type": "code",
      "source": [
        "!pip install fair-esm  # latest release\n",
        "!git clone https://github.com/facebookresearch/esm.git"
      ],
      "metadata": {
        "colab": {
          "base_uri": "https://localhost:8080/"
        },
        "id": "inip9rikT-yS",
        "outputId": "0dc5a72c-fa12-4ace-e608-d91ecdf69c42"
      },
      "execution_count": 3,
      "outputs": [
        {
          "output_type": "stream",
          "name": "stdout",
          "text": [
            "Collecting fair-esm\n",
            "  Downloading fair_esm-2.0.0-py3-none-any.whl (93 kB)\n",
            "\u001b[?25l     \u001b[90m━━━━━━━━━━━━━━━━━━━━━━━━━━━━━━━━━━━━━━━━\u001b[0m \u001b[32m0.0/93.1 kB\u001b[0m \u001b[31m?\u001b[0m eta \u001b[36m-:--:--\u001b[0m\r\u001b[2K     \u001b[90m━━━━━━━━━━━━━━━━━━━━━━━━━━━━━━━━━━━━━━━━\u001b[0m \u001b[32m93.1/93.1 kB\u001b[0m \u001b[31m2.6 MB/s\u001b[0m eta \u001b[36m0:00:00\u001b[0m\n",
            "\u001b[?25hInstalling collected packages: fair-esm\n",
            "Successfully installed fair-esm-2.0.0\n",
            "Cloning into 'esm'...\n",
            "remote: Enumerating objects: 1511, done.\u001b[K\n",
            "remote: Counting objects: 100% (151/151), done.\u001b[K\n",
            "remote: Compressing objects: 100% (113/113), done.\u001b[K\n",
            "remote: Total 1511 (delta 46), reused 101 (delta 36), pack-reused 1360\u001b[K\n",
            "Receiving objects: 100% (1511/1511), 11.78 MiB | 14.60 MiB/s, done.\n",
            "Resolving deltas: 100% (895/895), done.\n"
          ]
        }
      ]
    },
    {
      "cell_type": "code",
      "source": [
        "from src.CLEAN.utils import compute_esm_distance\n",
        "compute_esm_distance('MUnodual')"
      ],
      "metadata": {
        "colab": {
          "base_uri": "https://localhost:8080/"
        },
        "id": "jSp86OjsUTqm",
        "outputId": "57442396-f075-4f6d-b328-178b4eb2b172"
      },
      "execution_count": 5,
      "outputs": [
        {
          "output_type": "stream",
          "name": "stderr",
          "text": [
            "100%|██████████| 8/8 [00:00<00:00, 118.05it/s]\n"
          ]
        },
        {
          "output_type": "stream",
          "name": "stdout",
          "text": [
            "Calculating distance map, number of unique EC is 8\n"
          ]
        },
        {
          "output_type": "stream",
          "name": "stderr",
          "text": [
            "8it [00:00, 511.14it/s]\n"
          ]
        }
      ]
    }
  ]
}